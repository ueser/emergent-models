{
 "cells": [
  {
   "cell_type": "code",
   "execution_count": null,
   "id": "6ce746ae",
   "metadata": {},
   "outputs": [
    {
     "name": "stdout",
     "output_type": "stream",
     "text": [
      "0 1\n"
     ]
    },
    {
     "ename": "IndexError",
     "evalue": "list index out of range",
     "output_type": "error",
     "traceback": [
      "\u001b[31m---------------------------------------------------------------------------\u001b[39m",
      "\u001b[31mIndexError\u001b[39m                                Traceback (most recent call last)",
      "\u001b[36mCell\u001b[39m\u001b[36m \u001b[39m\u001b[32mIn[11]\u001b[39m\u001b[32m, line 20\u001b[39m\n\u001b[32m     15\u001b[39m             H.add_edge([a, b], [a + b],\n\u001b[32m     16\u001b[39m                        op=\u001b[33m\"\u001b[39m\u001b[33madd\u001b[39m\u001b[33m\"\u001b[39m,\n\u001b[32m     17\u001b[39m                        \u001b[38;5;28mid\u001b[39m=\u001b[33mf\u001b[39m\u001b[33m\"\u001b[39m\u001b[33madd_\u001b[39m\u001b[38;5;132;01m{\u001b[39;00ma\u001b[38;5;132;01m}\u001b[39;00m\u001b[33m_\u001b[39m\u001b[38;5;132;01m{\u001b[39;00mb\u001b[38;5;132;01m}\u001b[39;00m\u001b[33m_\u001b[39m\u001b[38;5;132;01m{\u001b[39;00ma+b\u001b[38;5;132;01m}\u001b[39;00m\u001b[33m\"\u001b[39m)\n\u001b[32m     18\u001b[39m     \u001b[38;5;28;01mreturn\u001b[39;00m H\n\u001b[32m---> \u001b[39m\u001b[32m20\u001b[39m KB = \u001b[43mbuild_KB\u001b[49m\u001b[43m(\u001b[49m\u001b[43m)\u001b[49m         \u001b[38;5;66;03m# immutable knowledge\u001b[39;00m\n",
      "\u001b[36mCell\u001b[39m\u001b[36m \u001b[39m\u001b[32mIn[11]\u001b[39m\u001b[32m, line 10\u001b[39m, in \u001b[36mbuild_KB\u001b[39m\u001b[34m()\u001b[39m\n\u001b[32m      8\u001b[39m \u001b[38;5;28;01mfor\u001b[39;00m n \u001b[38;5;129;01min\u001b[39;00m \u001b[38;5;28mrange\u001b[39m(\u001b[32m9\u001b[39m):\n\u001b[32m      9\u001b[39m     \u001b[38;5;28mprint\u001b[39m(n, n+\u001b[32m1\u001b[39m)\n\u001b[32m---> \u001b[39m\u001b[32m10\u001b[39m     \u001b[43mH\u001b[49m\u001b[43m.\u001b[49m\u001b[43madd_edge\u001b[49m\u001b[43m(\u001b[49m\u001b[43m[\u001b[49m\u001b[43mn\u001b[49m\u001b[43m]\u001b[49m\u001b[43m,\u001b[49m\u001b[43m \u001b[49m\u001b[43m[\u001b[49m\u001b[43mn\u001b[49m\u001b[43m+\u001b[49m\u001b[32;43m1\u001b[39;49m\u001b[43m]\u001b[49m\u001b[43m,\u001b[49m\u001b[43m \u001b[49m\u001b[43mop\u001b[49m\u001b[43m=\u001b[49m\u001b[33;43m\"\u001b[39;49m\u001b[33;43minc\u001b[39;49m\u001b[33;43m\"\u001b[39;49m\u001b[43m,\u001b[49m\u001b[43m  \u001b[49m\u001b[38;5;28;43mid\u001b[39;49m\u001b[43m=\u001b[49m\u001b[33;43mf\u001b[39;49m\u001b[33;43m\"\u001b[39;49m\u001b[33;43minc_\u001b[39;49m\u001b[38;5;132;43;01m{\u001b[39;49;00m\u001b[43mn\u001b[49m\u001b[38;5;132;43;01m}\u001b[39;49;00m\u001b[33;43m\"\u001b[39;49m\u001b[43m)\u001b[49m\n\u001b[32m     12\u001b[39m \u001b[38;5;66;03m# binary  {a,b} → a+b   (only while sum ≤ 10 to stay inside universe)\u001b[39;00m\n\u001b[32m     13\u001b[39m \u001b[38;5;28;01mfor\u001b[39;00m a \u001b[38;5;129;01min\u001b[39;00m \u001b[38;5;28mrange\u001b[39m(\u001b[32m11\u001b[39m):\n",
      "\u001b[36mFile \u001b[39m\u001b[32m~/Projects/emergent-models/.venv/lib/python3.13/site-packages/xgi/core/dihypergraph.py:540\u001b[39m, in \u001b[36mDiHypergraph.add_edge\u001b[39m\u001b[34m(self, members, idx, **attr)\u001b[39m\n\u001b[32m    538\u001b[39m \u001b[38;5;28;01mif\u001b[39;00m \u001b[38;5;28misinstance\u001b[39m(members, (\u001b[38;5;28mtuple\u001b[39m, \u001b[38;5;28mlist\u001b[39m)):\n\u001b[32m    539\u001b[39m     tail = members[\u001b[32m0\u001b[39m]\n\u001b[32m--> \u001b[39m\u001b[32m540\u001b[39m     head = \u001b[43mmembers\u001b[49m\u001b[43m[\u001b[49m\u001b[32;43m1\u001b[39;49m\u001b[43m]\u001b[49m\n\u001b[32m    541\u001b[39m \u001b[38;5;28;01melse\u001b[39;00m:\n\u001b[32m    542\u001b[39m     \u001b[38;5;28;01mraise\u001b[39;00m XGIError(\u001b[33m\"\u001b[39m\u001b[33mDirected edge must be a list or tuple!\u001b[39m\u001b[33m\"\u001b[39m)\n",
      "\u001b[31mIndexError\u001b[39m: list index out of range"
     ]
    }
   ],
   "source": [
    "import xgi                                   # HIGH‑ORDER graphs in Python   [oai_citation:0‡xgi.readthedocs.io](https://xgi.readthedocs.io/?utm_source=chatgpt.com)\n",
    "\n",
    "def build_KB():\n",
    "    H = xgi.DiHypergraph()\n",
    "    H.add_nodes_from(range(11))              # 0 … 10\n",
    "\n",
    "    # unary   n → n+1\n",
    "    for n in range(9):\n",
    "        print(n, n+1)\n",
    "        H.add_edge(([n], [n+1]), op=\"inc\",  id=f\"inc_{n}\")\n",
    "\n",
    "    # binary  {a,b} → a+b   (only while sum ≤ 10 to stay inside universe)\n",
    "    for a in range(11):\n",
    "        for b in range(11 - a):\n",
    "            H.add_edge([a, b], [a + b],\n",
    "                       op=\"add\",\n",
    "                       id=f\"add_{a}_{b}_{a+b}\")\n",
    "    return H\n",
    "\n",
    "KB = build_KB()         # immutable knowledge\n"
   ]
  },
  {
   "cell_type": "code",
   "execution_count": 3,
   "id": "c38476ca",
   "metadata": {},
   "outputs": [],
   "source": [
    "def inject_problem(H, a, b):\n",
    "    \"\"\"Add control nodes and tell the graph we want a+b.\"\"\"\n",
    "    H.add_nodes_from([\"initial\", \"final\", \"memory\"])\n",
    "\n",
    "    # single hyperedge: tail = {initial}, heads = {a,b}\n",
    "    H.add_edge([\"initial\"], [a, b],\n",
    "               op=\"want\", id=f\"want_{a}_{b}\")"
   ]
  },
  {
   "cell_type": "code",
   "execution_count": 4,
   "id": "12c40002",
   "metadata": {},
   "outputs": [],
   "source": [
    "def one_rewrite_step(H) -> bool:\n",
    "    \"\"\"\n",
    "    If there is a 'want' hyperedge (initial ▷ a,b) **and**\n",
    "    an 'add' hyperedge (a,b ▷ c),   create result edge\n",
    "    (final ▷ c) and store (memory ▷ c).  Remove the 'want'.\n",
    "    Returns True if something changed.\n",
    "    \"\"\"\n",
    "    for w in list(H.edges):\n",
    "        if H.edges[w].get(\"op\") != \"want\":\n",
    "            continue\n",
    "\n",
    "        tails = list(H.edges[w].tail)        # = ['initial']\n",
    "        a, b = H.edges[w].head               # two operands\n",
    "\n",
    "        # look up the unique add‑edge {a,b}→c\n",
    "        for e in H.nodes[a].edges & H.nodes[b].edges:\n",
    "            if H.edges[e].get(\"op\") == \"add\":\n",
    "                c = next(iter(H.edges[e].head))   # the sum node\n",
    "\n",
    "                # write the answer\n",
    "                H.add_edge([\"final\"],   [c], op=\"result\",\n",
    "                           id=f\"res_{a}_{b}_{c}\")\n",
    "                H.add_edge([\"memory\"],  [c], op=\"stored\",\n",
    "                           id=f\"mem_{a}_{b}_{c}\")\n",
    "\n",
    "                # clean up\n",
    "                H.remove_edge(w)\n",
    "                return True                 # fired!\n",
    "    return False                            # nothing to do"
   ]
  },
  {
   "cell_type": "code",
   "execution_count": 5,
   "id": "70d1cef2",
   "metadata": {},
   "outputs": [],
   "source": [
    "def run_until_halt(H, max_steps=10):\n",
    "    for t in range(max_steps):\n",
    "        if any(H.edges[e].get(\"op\") == \"result\" for e in H.edges):\n",
    "            return t                        # halted\n",
    "        if not one_rewrite_step(H):\n",
    "            raise RuntimeError(\"Stuck – no rule applicable\")\n",
    "    raise RuntimeError(\"Did not halt in max_steps\")"
   ]
  },
  {
   "cell_type": "code",
   "execution_count": null,
   "id": "aacd283e",
   "metadata": {},
   "outputs": [],
   "source": [
    "inject_problem(KB, 2, 3)\n",
    "\n",
    "    steps = run_until_halt(KB)\n",
    "    res_edge = next(e for e in KB.edges if KB.edges[e].get(\"op\") == \"result\")\n",
    "    result  = next(iter(KB.edges[res_edge].head))\n",
    "\n",
    "    print(f\"Halted in {steps} step(s);   2 + 3 = {result}\")"
   ]
  }
 ],
 "metadata": {
  "kernelspec": {
   "display_name": ".venv",
   "language": "python",
   "name": "python3"
  },
  "language_info": {
   "codemirror_mode": {
    "name": "ipython",
    "version": 3
   },
   "file_extension": ".py",
   "mimetype": "text/x-python",
   "name": "python",
   "nbconvert_exporter": "python",
   "pygments_lexer": "ipython3",
   "version": "3.13.3"
  }
 },
 "nbformat": 4,
 "nbformat_minor": 5
}
